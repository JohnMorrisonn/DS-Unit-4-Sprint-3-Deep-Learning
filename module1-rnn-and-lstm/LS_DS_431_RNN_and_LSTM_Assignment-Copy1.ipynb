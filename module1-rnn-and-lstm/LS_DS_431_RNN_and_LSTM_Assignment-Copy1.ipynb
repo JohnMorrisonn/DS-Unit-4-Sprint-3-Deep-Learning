{
 "cells": [
  {
   "cell_type": "markdown",
   "metadata": {},
   "source": [
    "<img align=\"left\" src=\"https://lever-client-logos.s3.amazonaws.com/864372b1-534c-480e-acd5-9711f850815c-1524247202159.png\" width=200>\n",
    "<br></br>\n",
    "<br></br>\n",
    "\n",
    "## *Data Science Unit 4 Sprint 3 Assignment 1*\n",
    "\n",
    "# Recurrent Neural Networks and Long Short Term Memory (LSTM)\n",
    "\n",
    "![Monkey at a typewriter](https://upload.wikimedia.org/wikipedia/commons/thumb/3/3c/Chimpanzee_seated_at_typewriter.jpg/603px-Chimpanzee_seated_at_typewriter.jpg)\n",
    "\n",
    "It is said that [infinite monkeys typing for an infinite amount of time](https://en.wikipedia.org/wiki/Infinite_monkey_theorem) will eventually type, among other things, the complete works of Wiliam Shakespeare. Let's see if we can get there a bit faster, with the power of Recurrent Neural Networks and LSTM.\n",
    "\n",
    "This text file contains the complete works of Shakespeare: https://www.gutenberg.org/files/100/100-0.txt\n",
    "\n",
    "Use it as training data for an RNN - you can keep it simple and train character level, and that is suggested as an initial approach.\n",
    "\n",
    "Then, use that trained RNN to generate Shakespearean-ish text. Your goal - a function that can take, as an argument, the size of text (e.g. number of characters or lines) to generate, and returns generated text of that size.\n",
    "\n",
    "Note - Shakespeare wrote an awful lot. It's OK, especially initially, to sample/use smaller data and parameters, so you can have a tighter feedback loop when you're trying to get things running. Then, once you've got a proof of concept - start pushing it more!"
   ]
  },
  {
   "cell_type": "code",
   "execution_count": 1,
   "metadata": {},
   "outputs": [],
   "source": [
    "import tensorflow as tf\n",
    "\n",
    "url = \"https://www.gutenberg.org/files/100/100-0.txt\"\n",
    "path_to_file = tf.keras.utils.get_file('shakespeare.txt', url)\n",
    "text = open(path_to_file, 'rb').read().decode(encoding='utf-8-sig')"
   ]
  },
  {
   "cell_type": "code",
   "execution_count": 2,
   "metadata": {},
   "outputs": [
    {
     "name": "stdout",
     "output_type": "stream",
     "text": [
      "unique characters :  107\n",
      "txt_data_size :  11499623\n"
     ]
    }
   ],
   "source": [
    "import numpy as np\n",
    "\n",
    "text = \" \".join(text)\n",
    "chars = sorted(list(set(text))) # split and remove duplicate characters. convert to list.\n",
    "\n",
    "num_chars = len(chars) # the number of unique characters\n",
    "txt_data_size = len(text)\n",
    "\n",
    "print(\"unique characters : \", num_chars)\n",
    "print(\"txt_data_size : \", txt_data_size)"
   ]
  },
  {
   "cell_type": "code",
   "execution_count": 3,
   "metadata": {},
   "outputs": [],
   "source": [
    "char_to_int = dict((c, i) for i, c in enumerate(chars)) # \"enumerate\" retruns index and value. Convert it to dictionary\n",
    "int_to_char = dict((i, c) for i, c in enumerate(chars))"
   ]
  },
  {
   "cell_type": "code",
   "execution_count": 4,
   "metadata": {},
   "outputs": [
    {
     "name": "stdout",
     "output_type": "stream",
     "text": [
      "nb sequences: 3833201\n",
      "Vectorization...\n"
     ]
    }
   ],
   "source": [
    "maxlen = 20\n",
    "step = 3\n",
    "sentences = []\n",
    "next_chars = []\n",
    "for i in range(0, len(text) - maxlen, step):\n",
    "    sentences.append(text[i: i + maxlen])\n",
    "    next_chars.append(text[i + maxlen])\n",
    "print('nb sequences:', len(sentences))\n",
    "\n",
    "print('Vectorization...')\n",
    "x = np.zeros((len(sentences), maxlen, len(chars)), dtype=np.bool)\n",
    "y = np.zeros((len(sentences), len(chars)), dtype=np.bool)\n",
    "for i, sentence in enumerate(sentences):\n",
    "    for t, char in enumerate(sentence):\n",
    "        x[i, t, char_to_int[char]] = 1\n",
    "    y[i, char_to_int[next_chars[i]]] = 1"
   ]
  },
  {
   "cell_type": "code",
   "execution_count": 5,
   "metadata": {},
   "outputs": [
    {
     "name": "stdout",
     "output_type": "stream",
     "text": [
      "Build model...\n",
      "Compile\n"
     ]
    }
   ],
   "source": [
    "# build the model: a single LSTM\n",
    "from tensorflow.keras.preprocessing import sequence\n",
    "from tensorflow.keras.models import Sequential\n",
    "from tensorflow.keras.layers import Dense, Embedding\n",
    "from tensorflow.keras.layers import LSTM\n",
    "from tensorflow.keras.callbacks import LambdaCallback\n",
    "import random\n",
    "import sys\n",
    "\n",
    "print('Build model...')\n",
    "model = Sequential()\n",
    "model.add(LSTM(128, input_shape=(maxlen, len(chars))))\n",
    "model.add(Dense(len(chars), activation='sigmoid'))\n",
    "\n",
    "print('Compile')\n",
    "model.compile(loss='binary_crossentropy',\n",
    "              optimizer='adam',\n",
    "              metrics=['accuracy'])\n",
    "\n",
    "def sample(preds, temperature=1.0):\n",
    "    # helper function to sample an index from a probability array\n",
    "    preds = np.asarray(preds).astype('float64')\n",
    "    preds = np.log(preds) / temperature\n",
    "    exp_preds = np.exp(preds)\n",
    "    preds = exp_preds / np.sum(exp_preds)\n",
    "    probas = np.random.multinomial(1, preds, 1)\n",
    "    return np.argmax(probas)\n",
    "\n",
    "\n",
    "def on_epoch_end(epoch, _):\n",
    "    # Function invoked at end of each epoch. Prints generated text.\n",
    "    print()\n",
    "    print('----- Generating text after Epoch: %d' % epoch)\n",
    "\n",
    "    start_index = random.randint(0, len(text) - maxlen - 1)\n",
    "    for diversity in [0.2, 0.5, 1.0, 1.2]:\n",
    "        print('----- diversity:', diversity)\n",
    "\n",
    "        generated = ''\n",
    "        sentence = text[start_index: start_index + maxlen]\n",
    "        generated += sentence\n",
    "        print('----- Generating with seed: \"' + sentence + '\"')\n",
    "        sys.stdout.write(generated)\n",
    "\n",
    "        for i in range(400):\n",
    "            x_pred = np.zeros((1, maxlen, len(chars)))\n",
    "            for t, char in enumerate(sentence):\n",
    "                x_pred[0, t, char_to_int[char]] = 1.\n",
    "\n",
    "            preds = model.predict(x_pred, verbose=0)[0]\n",
    "            next_index = sample(preds, diversity)\n",
    "            next_char = int_to_char[next_index]\n",
    "\n",
    "            sentence = sentence[1:] + next_char\n",
    "\n",
    "            sys.stdout.write(next_char)\n",
    "            sys.stdout.flush()\n",
    "        print()\n",
    "\n"
   ]
  },
  {
   "cell_type": "code",
   "execution_count": null,
   "metadata": {},
   "outputs": [
    {
     "name": "stdout",
     "output_type": "stream",
     "text": [
      "Callback\n",
      "Train on 3833201 samples\n",
      "Epoch 1/10\n",
      "3831936/3833201 [============================>.] - ETA: 0s - loss: 0.0155 - accuracy: 0.9957\n",
      "----- Generating text after Epoch: 0\n",
      "----- diversity: 0.2\n",
      "----- Generating with seed: \"w e e p i n g   e y \"\n",
      "w e e p i n g   e y   t h e"
     ]
    },
    {
     "name": "stderr",
     "output_type": "stream",
     "text": [
      "/usr/local/lib/python3.6/dist-packages/ipykernel_launcher.py:23: RuntimeWarning: divide by zero encountered in log\n"
     ]
    },
    {
     "name": "stdout",
     "output_type": "stream",
     "text": [
      "   s t o r   t h e   c o m e   t h e   s h a l l   t h e   b e   t h e   b e   t h e   s o   d e a r   t h e   b e   t h e   w i t h   t h e   w o r l e   t o   d e a r   t h e   c o m e   t h e   m a r t   t h e   w i t h   t h e   c o m e   t h e   c o m e   t h e   m a c h   t h e   g o n d e r   t h e   m a v e   t h e   b e   t h e   c o m e   t h e   c o m e   t h e   c o m e   t h e \n",
      "----- diversity: 0.5\n",
      "----- Generating with seed: \"w e e p i n g   e y \"\n",
      "w e e p i n g   e y .                                                                                                                                                                                                                                                                                                                                                                                                               \n",
      "----- diversity: 1.0\n",
      "----- Generating with seed: \"w e e p i n g   e y \"\n",
      "  e e p i n g   e y .   b e   t o   S I c h e s   s h a s t   m u t h   m y   t i c k p f o u g   m i n g .   T o   C a q k a l y   n o t   m o w   f o r s a n ' d   o f   G r c e a r . \n",
      "                E r i y ' s ?   B e   d r o n k s i o n   t u v i g h h a c u \n",
      "         t h a t   b e s t   r o r g o n , \n",
      "         L e o n c t u r l e . \n",
      " \n",
      " F O R S D O . \n",
      " Y o u r ,   l o n g h t ' d   t o   d o d   t h\n",
      "----- diversity: 1.2\n",
      "----- Generating with seed: \"w e e p i n g   e y \"\n",
      "  e e p i n g   e y t r y e s t é o l l y   g a a t a y , \n",
      "         a n c i k i d ;   A l l   m a c e ,   a n t o   s l i d e d   b l o r ' g h t s e ,   c a l i a n , \n",
      " I l d   g a t n ,   s h e n t   t h a m   l o o d s , \n",
      " H i n   a l l   c V Y A N F   S U S C O N L U B E .   I y   f o r ' s t a l d .   O f   t o   b e c u e t w l e n , \n",
      " B u t   d i e n t )   t h m y ,   f o r   d e n g r i n g ’ r i d a \n",
      "3833201/3833201 [==============================] - 214s 56us/sample - loss: 0.0155 - accuracy: 0.9957\n",
      "Epoch 2/10\n",
      "3831808/3833201 [============================>.] - ETA: 0s - loss: 0.0121 - accuracy: 0.9962\n",
      "----- Generating text after Epoch: 1\n",
      "----- diversity: 0.2\n",
      "----- Generating with seed: \"c t i v e l y   h a \"\n",
      "c t i v e l y   h a v e   t h e   o f   t h e   c o n c e n t e d   w h e n   t h e   w o r d   t h e   d a y   t h e   w o r d   t h e   c o m e   t o   m e   t h e   w o r d   t h e   w i l l   t h e   w a r r   t h e   h a v e   t h e   c o m e   t h e   g r i e n d   t h e   d o   t h e   m a n   t h e   w i l l   t h e   d o n e   t h e   c o m e   t h e   g r o w s   h e r   t h e   m a n   b e   t h e   w a s \n",
      "----- diversity: 0.5\n",
      "----- Generating with seed: \"c t i v e l y   h a \"\n",
      "c t i v e l y   h a v e   o f   e n c e n t i o n   t h e   r e m o u t   t h a t   t h e   d o d   t h e   h e a r t   w i t h   m a n d   h e r e   c o n c e n t   a t   s h o u l d   t h e   o f f   d o   b e a r t   t h e   h a v e   t e l l   b e   a   g r o o d   t h e   q u e e n   o f   t h e   w o r l d   a n d   b u t   t h e   w o r d   t h e   b i t t   m e   t o   h e a d   f o r t   b e   t h a t   b e \n",
      "----- diversity: 1.0\n",
      "----- Generating with seed: \"c t i v e l y   h a \"\n",
      "  t i v e l y   h a n d   t h e   s u p p o   n o t   n o w ? \n",
      "     L U C K .   A n d   y o u   l i v e \n",
      " S h e   r e w o r d   h i m   b e r c a y   t o   w a y   b e n y . \n",
      " \n",
      " P I N G L A N D . \n",
      " I   m a m k   m i g e s ? \n",
      "     B A N G U L . \n",
      " I ’ l l   d i e ,   s p o y   a   l i c e n y   r e a l   t o   f a i r c e s   h e   l e s t   f i r e   i '   m o r e   b e   t h a t   w o r d , \n",
      "         \n",
      "----- diversity: 1.2\n",
      "----- Generating with seed: \"c t i v e l y   h a \"\n",
      "  t i v e l y   h a n g h o w   H e m a m o ! \n",
      "         V e a c h , \n",
      " T w a l l   t h a t   t h a     m o r t   c a n v e r ;   t h e n e . \n",
      " \n",
      " L L O U T O   I P .   L e w   h o w   v e r y   i n   i t   i n   b l i n g . \n",
      "     S H R O N C E .   Y y t h ' s   l a r e ’ s   s h a v e   b r o n e   p a r e i u \n",
      "         O w e l d s ;   i n .   P r o t h ,   i n   h a p e   t h i s   n e g h ’ d   v l e c k \n",
      "3833201/3833201 [==============================] - 210s 55us/sample - loss: 0.0121 - accuracy: 0.9962\n",
      "Epoch 3/10\n",
      "3832064/3833201 [============================>.] - ETA: 0s - loss: 0.0113 - accuracy: 0.9964\n",
      "----- Generating text after Epoch: 2\n",
      "----- diversity: 0.2\n",
      " ---- Generating with seed: \"e r t a k e \n",
      "     \"\n",
      "  r t a k e \n",
      "         A n d   s o   s e n d   t h e   c a n s t   t h e   c o m e   t o   t h e   p r e s e n t   o f   t h e   c o n s t a r d ,   t h e   l e t   t h e   s t a n d   t h e   s p e a k   m e   t h e   p r o y   t h e   p r o p e n t   t h e   c a n   t h e   s t a n d   t h e   d o n e   i n   t h e   c o m p o r t   t h e   c o m e   t h e   w o r d . \n",
      " \n",
      " \n",
      "                                   \n",
      "----- diversity: 0.5\n",
      " ---- Generating with seed: \"e r t a k e \n",
      "     \"\n",
      "  r t a k e \n",
      "         A n d   t h e   d o   h i m   h i m   r e v e r e s s   a n d   b e   h e a r   t h e   l a n d . \n",
      "     A L L I V I U S .   W h e r e   i s   n o w   t h y   s a y   i n   t h e   p r e a t   h i m   a   m o s t   y o u   t h e   r e c e n c e   t h e   p r o m e n t ,   t h e   i s   t h a t   t h e e ,   a n d   m e n t   n o t   h e r   s e l l   t h e   h a v e   y o u   d o   a n d   s \n",
      "----- diversity: 1.0\n",
      " ---- Generating with seed: \"e r t a k e \n",
      "     \"\n",
      "  r t a k e \n",
      "         I   p r i z e   a   k i g h t s , \n",
      " S f e y   d a z e d   k n a v e  kc i m u r , y   a t   t h e e \n",
      "         B u t   o t h i l l   m a n g s \n",
      " \n",
      " \n",
      " \n",
      " \n",
      " I T h e n   A V b i s p o n ’ d   i n .   G o o d   s i n   t h a t   r o y n   H o l d \n",
      " S e e   b y \n",
      "         T h i s   t w o u n d , \n",
      "     p r o w e \n",
      " \n",
      " \n",
      " A n t - a m e r r y   m e   y o ' d   w i t h   B u t   p r \n",
      "----- diversity: 1.2\n",
      " ---- Generating with seed: \"e r t a k e \n",
      "     \"\n",
      "  r t a k e \n",
      "         A   G a d s t h i e l d s .   M o v e   i '   l o v u . \n",
      " S w a l l   s h o u l   u m l y - m e r k   i n   y o u r   o u l d   f i l e \n",
      "         H a w a s \n",
      " \n",
      "     S R L I P H A R I ' I N A L A S T O N E S A N . \n",
      " H ’   m y   b o d s   t u l l   s u t   i n \n",
      " H a r s \n",
      "     H a n   r e e s t e , \n",
      " A s   f o r   t h e m   a   m o t g a v i n o p e d ’ s t   r o l y ; \n",
      "         \n",
      "3833201/3833201 [==============================] - 211s 55us/sample - loss: 0.0113 - accuracy: 0.9964\n",
      "Epoch 4/10\n",
      "3832320/3833201 [============================>.] - ETA: 0s - loss: 0.0109 - accuracy: 0.9965\n",
      "----- Generating text after Epoch: 3\n",
      "----- diversity: 0.2\n",
      "----- Generating with seed: \"   a r e   q u e e n\"\n",
      "   a r e   q u e e n   a n d   t h e   s w e e t   t h e   p r e s e n t   t h e   s w e e t   t h e   s p e a k   t h e   p r e s e n t   o f   t h e   f o r t h i n g   t h e   s t r e n g e r   t o   t h e   f a i t h ,   a n d   t h e   w o r l d   t h e   m o r e   t h e   p r o p e r e n t   o f   t h e   p r e c i c e   o f   t h e   s t i l l   t h e   p r o p e r t i o n   o f   t h e   m a n y   o f   t h e\n",
      "----- diversity: 0.5\n",
      "----- Generating with seed: \"   a r e   q u e e n\"\n",
      "   a r e   q u e e n   t h e   p a s s y ,   a n d   t h e   c o n t e n d e n t   t h e   c o n s p o u r   t h e   n o t   f r i e n d   o f   t h e   m o r e   t h e   b e d y   w e e p   a t   h i s   t h i s   w e l l   y o u   l o n g ' d   b o i n t   o f   m y   m a n   o f   t h e   c o n s e n t   h i m   h i s   f o r   i t   h e r e .   T h e   c o m m a n d   m e   h o l d e r ' d   p r e t t e r s   o f\n",
      "----- diversity: 1.0\n",
      "----- Generating with seed: \"   a r e   q u e e n\"\n",
      "   a r e   q u e e n   i n o u r . \n",
      "         B i t h i a r c h   i n   C o w e n ,   p o w e n   i s ' s - p o h n . \n",
      "     E V I S A L O .   V e r e ' t   s h e s t e l d \n",
      "         T h e   h a l t   n o t ’ s   f a t h e r ’ d   b e   ' i n n e r ;   I   c h i c t   z o ,   t h e y   g o l l i v s   d e c e e e \n",
      "     D U R E .   I   a m ;   w h a n   o f   b a n t l e s s ;   a n d   s o   w e l l ,   l o s t\n",
      "----- diversity: 1.2\n",
      "----- Generating with seed: \"   a r e   q u e e n\"\n",
      "   a r e   q u e e n t a i n e d s . \n",
      "         T o   l a g e   t h e y ,   w e   f o w   s t o n e   d e a t h ' d ,   w h y   t h i e r :   a ,   h o n s m e a n c h   r u r c h   t h i s   t h e i r   t h e e   h o ?   S i v e   s o   r e l a g e   s t r e i d , \n",
      "     S o   h u s o r o - l a s h !   C o m e   l i f e . _ ] \n",
      " \n",
      " S C E N P A I D .   C r a y t o r ,   b e f o r d ,   a n g l e   s u r e . \n",
      "  \n",
      "3833201/3833201 [==============================] - 210s 55us/sample - loss: 0.0109 - accuracy: 0.9965\n",
      "Epoch 5/10\n",
      "3832832/3833201 [============================>.] - ETA: 0s - loss: 0.0106 - accuracy: 0.9966\n",
      "----- Generating text after Epoch: 4\n",
      "----- diversity: 0.2\n",
      "----- Generating with seed: \" u t   s h e   m a k\"\n",
      " u t   s h e   m a k e   t h e   c o n s t a r d   t h e   p r o v e   t h e   b e s t   t h e   s p e a k   t h e   p r o v e   t h e   p r e s e n t   t h e   s t r e n g e r   t h e   c a n n o t   t h e   w o r l d   t h e   c o m e   t o   t h e   d e s p e r"
     ]
    }
   ],
   "source": [
    "print('Callback')\n",
    "print_callback = LambdaCallback(on_epoch_end=on_epoch_end)\n",
    "\n",
    "model.fit(x, y,\n",
    "          batch_size=128,\n",
    "          epochs=10,\n",
    "          callbacks=[print_callback])"
   ]
  },
  {
   "cell_type": "markdown",
   "metadata": {
    "colab_type": "text",
    "id": "zE4a4O7Bp5x1"
   },
   "source": [
    "# Resources and Stretch Goals"
   ]
  },
  {
   "cell_type": "markdown",
   "metadata": {
    "colab_type": "text",
    "id": "uT3UV3gap9H6"
   },
   "source": [
    "## Stretch goals:\n",
    "- Refine the training and generation of text to be able to ask for different genres/styles of Shakespearean text (e.g. plays versus sonnets)\n",
    "- Train a classification model that takes text and returns which work of Shakespeare it is most likely to be from\n",
    "- Make it more performant! Many possible routes here - lean on Keras, optimize the code, and/or use more resources (AWS, etc.)\n",
    "- Revisit the news example from class, and improve it - use categories or tags to refine the model/generation, or train a news classifier\n",
    "- Run on bigger, better data\n",
    "\n",
    "## Resources:\n",
    "- [The Unreasonable Effectiveness of Recurrent Neural Networks](https://karpathy.github.io/2015/05/21/rnn-effectiveness/) - a seminal writeup demonstrating a simple but effective character-level NLP RNN\n",
    "- [Simple NumPy implementation of RNN](https://github.com/JY-Yoon/RNN-Implementation-using-NumPy/blob/master/RNN%20Implementation%20using%20NumPy.ipynb) - Python 3 version of the code from \"Unreasonable Effectiveness\"\n",
    "- [TensorFlow RNN Tutorial](https://github.com/tensorflow/models/tree/master/tutorials/rnn) - code for training a RNN on the Penn Tree Bank language dataset\n",
    "- [4 part tutorial on RNN](http://www.wildml.com/2015/09/recurrent-neural-networks-tutorial-part-1-introduction-to-rnns/) - relates RNN to the vanishing gradient problem, and provides example implementation\n",
    "- [RNN training tips and tricks](https://github.com/karpathy/char-rnn#tips-and-tricks) - some rules of thumb for parameterizing and training your RNN"
   ]
  }
 ],
 "metadata": {
  "kernelspec": {
   "display_name": "Python 3",
   "language": "python",
   "name": "python3"
  },
  "language_info": {
   "codemirror_mode": {
    "name": "ipython",
    "version": 3
   },
   "file_extension": ".py",
   "mimetype": "text/x-python",
   "name": "python",
   "nbconvert_exporter": "python",
   "pygments_lexer": "ipython3",
   "version": "3.6.8"
  }
 },
 "nbformat": 4,
 "nbformat_minor": 4
}
